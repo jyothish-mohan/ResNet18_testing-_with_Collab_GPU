{
  "nbformat": 4,
  "nbformat_minor": 0,
  "metadata": {
    "colab": {
      "name": "Collab_GPU_Testing_with_ResNet18.ipynb",
      "provenance": [],
      "collapsed_sections": [],
      "authorship_tag": "ABX9TyOXJfGDFA42Ti85mTzj6mKT",
      "include_colab_link": true
    },
    "kernelspec": {
      "name": "python3",
      "display_name": "Python 3"
    },
    "accelerator": "GPU"
  },
  "cells": [
    {
      "cell_type": "markdown",
      "metadata": {
        "id": "view-in-github",
        "colab_type": "text"
      },
      "source": [
        "<a href=\"https://colab.research.google.com/github/jyothish-mohan/ResNet18_testing-_with_Collab_GPU/blob/main/Collab_GPU_Testing_with_ResNet18.ipynb\" target=\"_parent\"><img src=\"https://colab.research.google.com/assets/colab-badge.svg\" alt=\"Open In Colab\"/></a>"
      ]
    },
    {
      "cell_type": "code",
      "metadata": {
        "id": "Ke2OgG2m7W50"
      },
      "source": [
        "import numpy as np\r\n",
        "import tensorflow as tf\r\n",
        "from tensorflow import keras"
      ],
      "execution_count": null,
      "outputs": []
    },
    {
      "cell_type": "code",
      "metadata": {
        "colab": {
          "base_uri": "https://localhost:8080/"
        },
        "id": "Kt1qwX3Z7rT2",
        "outputId": "12d4c1ba-6a34-43b4-b231-598173da3f60"
      },
      "source": [
        "fashion_mnist = keras.datasets.fashion_mnist.load_data()\r\n",
        "(X_train, y_train), (X_test, y_test) = fashion_mnist\r\n",
        "\r\n",
        "X_train = X_train.astype('float32')/255\r\n",
        "X_test = X_test.astype('float32')/255\r\n",
        "\r\n",
        "X_train = X_train.reshape(-1,28,28,1)"
      ],
      "execution_count": null,
      "outputs": [
        {
          "output_type": "stream",
          "text": [
            "Downloading data from https://storage.googleapis.com/tensorflow/tf-keras-datasets/train-labels-idx1-ubyte.gz\n",
            "32768/29515 [=================================] - 0s 0us/step\n",
            "Downloading data from https://storage.googleapis.com/tensorflow/tf-keras-datasets/train-images-idx3-ubyte.gz\n",
            "26427392/26421880 [==============================] - 0s 0us/step\n",
            "Downloading data from https://storage.googleapis.com/tensorflow/tf-keras-datasets/t10k-labels-idx1-ubyte.gz\n",
            "8192/5148 [===============================================] - 0s 0us/step\n",
            "Downloading data from https://storage.googleapis.com/tensorflow/tf-keras-datasets/t10k-images-idx3-ubyte.gz\n",
            "4423680/4422102 [==============================] - 0s 0us/step\n"
          ],
          "name": "stdout"
        }
      ]
    },
    {
      "cell_type": "code",
      "metadata": {
        "id": "MLlkmVTd9ITz"
      },
      "source": [
        "from functools import partial"
      ],
      "execution_count": null,
      "outputs": []
    },
    {
      "cell_type": "code",
      "metadata": {
        "id": "wwfF1H6B_G_-"
      },
      "source": [
        "DefaultConv2D = partial(keras.layers.Conv2D,strides=1,padding=\"SAME\",kernel_size=3,use_bias=False)"
      ],
      "execution_count": null,
      "outputs": []
    },
    {
      "cell_type": "code",
      "metadata": {
        "id": "E5DJp1Up_gef"
      },
      "source": [
        "# Creating Residual Block\r\n",
        "class ResidualUnit(keras.layers.Layer):\r\n",
        "    def __init__(self,filters,strides=1,activation='relu',**kwargs):\r\n",
        "        super().__init__(**kwargs)\r\n",
        "        self.activation = keras.activations.get(activation)\r\n",
        "        self.main_layers = [DefaultConv2D(filters,strides=strides),keras.layers.BatchNormalization(),self.activation,\r\n",
        "                            DefaultConv2D(filters),keras.layers.BatchNormalization()]\r\n",
        "        self.skip_layers = []\r\n",
        "        if strides > 1:\r\n",
        "            self.skip_layers = [DefaultConv2D(filters,kernel_size=1,strides=strides),keras.layers.BatchNormalization()]\r\n",
        "        \r\n",
        "    def call(self,inputs):\r\n",
        "        Z = inputs\r\n",
        "        for layers in self.main_layers:\r\n",
        "            Z = layers(Z)\r\n",
        "        skip_Z = inputs\r\n",
        "        for layer in self.skip_layers:\r\n",
        "            skip_Z = layer(skip_Z)\r\n",
        "            \r\n",
        "        return self.activation(Z+skip_Z)"
      ],
      "execution_count": null,
      "outputs": []
    },
    {
      "cell_type": "code",
      "metadata": {
        "id": "FJLyh8YhVRwV"
      },
      "source": [
        "model = keras.models.Sequential()\r\n",
        "#Conv layer\r\n",
        "model.add(DefaultConv2D(64,kernel_size=7,strides=2,input_shape=[28,28,1]))\r\n",
        "model.add(keras.layers.BatchNormalization())\r\n",
        "model.add(keras.layers.Activation('relu'))\r\n",
        "model.add(keras.layers.MaxPooling2D(pool_size=3,strides=2,padding=\"SAME\"))\r\n",
        "#Deep Residual Network\r\n",
        "prev_filters = 64\r\n",
        "for filters in [64]*2 + [128]*2 + [256]*2 + [512]*2 :\r\n",
        "    strides = 1 if filters == prev_filters else 2\r\n",
        "    model.add(ResidualUnit(filters,strides=strides))\r\n",
        "    prev_filters = filters\r\n",
        "model.add(keras.layers.GlobalAvgPool2D())\r\n",
        "model.add(keras.layers.Flatten())\r\n",
        "model.add(keras.layers.Dense(10,activation=\"softmax\"))"
      ],
      "execution_count": null,
      "outputs": []
    },
    {
      "cell_type": "code",
      "metadata": {
        "id": "yn_acb62VgNx"
      },
      "source": [
        "model.compile(loss='sparse_categorical_crossentropy',optimizer='sgd',metrics=['accuracy'])"
      ],
      "execution_count": null,
      "outputs": []
    },
    {
      "cell_type": "code",
      "metadata": {
        "colab": {
          "base_uri": "https://localhost:8080/"
        },
        "id": "k7GPOb4kXAAx",
        "outputId": "db13a7ac-f403-44ce-9514-2886cb72cd07"
      },
      "source": [
        "model.fit(X_train,y_train,epochs=15)"
      ],
      "execution_count": null,
      "outputs": [
        {
          "output_type": "stream",
          "text": [
            "Epoch 1/15\n",
            "1875/1875 [==============================] - 74s 39ms/step - loss: 0.3023 - accuracy: 0.8893\n",
            "Epoch 2/15\n",
            "1875/1875 [==============================] - 73s 39ms/step - loss: 0.2593 - accuracy: 0.9025\n",
            "Epoch 3/15\n",
            "1875/1875 [==============================] - 73s 39ms/step - loss: 0.2271 - accuracy: 0.9144\n",
            "Epoch 4/15\n",
            "1875/1875 [==============================] - 73s 39ms/step - loss: 0.2034 - accuracy: 0.9238\n",
            "Epoch 5/15\n",
            "1875/1875 [==============================] - 74s 39ms/step - loss: 0.1799 - accuracy: 0.9314\n",
            "Epoch 6/15\n",
            "1875/1875 [==============================] - 74s 39ms/step - loss: 0.1642 - accuracy: 0.9380\n",
            "Epoch 7/15\n",
            "1875/1875 [==============================] - 74s 39ms/step - loss: 0.1446 - accuracy: 0.9447\n",
            "Epoch 8/15\n",
            "1875/1875 [==============================] - 73s 39ms/step - loss: 0.1311 - accuracy: 0.9498\n",
            "Epoch 9/15\n",
            "1875/1875 [==============================] - 74s 39ms/step - loss: 0.1184 - accuracy: 0.9548\n",
            "Epoch 10/15\n",
            "1875/1875 [==============================] - 74s 39ms/step - loss: 0.1059 - accuracy: 0.9595\n",
            "Epoch 11/15\n",
            "1875/1875 [==============================] - 74s 40ms/step - loss: 0.0959 - accuracy: 0.9636\n",
            "Epoch 12/15\n",
            "1875/1875 [==============================] - 74s 40ms/step - loss: 0.0884 - accuracy: 0.9661\n",
            "Epoch 13/15\n",
            "1875/1875 [==============================] - 74s 39ms/step - loss: 0.0813 - accuracy: 0.9689\n",
            "Epoch 14/15\n",
            "1875/1875 [==============================] - 74s 39ms/step - loss: 0.0701 - accuracy: 0.9732\n",
            "Epoch 15/15\n",
            "1875/1875 [==============================] - 74s 39ms/step - loss: 0.0647 - accuracy: 0.9754\n"
          ],
          "name": "stdout"
        },
        {
          "output_type": "execute_result",
          "data": {
            "text/plain": [
              "<tensorflow.python.keras.callbacks.History at 0x7f44b625cf10>"
            ]
          },
          "metadata": {
            "tags": []
          },
          "execution_count": 10
        }
      ]
    },
    {
      "cell_type": "code",
      "metadata": {
        "id": "e1qHIi6qbyif"
      },
      "source": [
        "class_names = [\"T-shirt/top\", \"Trouser\", \"Pullover\", \"Dress\", \"Coat\",\"Sandal\", \"Shirt\", \"Sneaker\", \"Bag\", \"Ankle boot\"]"
      ],
      "execution_count": null,
      "outputs": []
    },
    {
      "cell_type": "code",
      "metadata": {
        "colab": {
          "base_uri": "https://localhost:8080/"
        },
        "id": "eER0z6kYcKgh",
        "outputId": "bc2baaa1-8537-497c-82b8-693768a641f2"
      },
      "source": [
        "pred_data = X_test[:4]\r\n",
        "pred_data = pred_data.reshape(-1,28,28,1)\r\n",
        "y_pred = model.predict_classes(pred_data)"
      ],
      "execution_count": null,
      "outputs": [
        {
          "output_type": "stream",
          "text": [
            "/usr/local/lib/python3.7/dist-packages/tensorflow/python/keras/engine/sequential.py:450: UserWarning: `model.predict_classes()` is deprecated and will be removed after 2021-01-01. Please use instead:* `np.argmax(model.predict(x), axis=-1)`,   if your model does multi-class classification   (e.g. if it uses a `softmax` last-layer activation).* `(model.predict(x) > 0.5).astype(\"int32\")`,   if your model does binary classification   (e.g. if it uses a `sigmoid` last-layer activation).\n",
            "  warnings.warn('`model.predict_classes()` is deprecated and '\n"
          ],
          "name": "stderr"
        }
      ]
    },
    {
      "cell_type": "code",
      "metadata": {
        "colab": {
          "base_uri": "https://localhost:8080/"
        },
        "id": "7BYRg_xgcvfP",
        "outputId": "47dbf6f6-e15b-448a-b74d-05895099cdbb"
      },
      "source": [
        "np.array(class_names)[y_pred]"
      ],
      "execution_count": null,
      "outputs": [
        {
          "output_type": "execute_result",
          "data": {
            "text/plain": [
              "array(['Ankle boot', 'Pullover', 'Trouser', 'Trouser'], dtype='<U11')"
            ]
          },
          "metadata": {
            "tags": []
          },
          "execution_count": 17
        }
      ]
    },
    {
      "cell_type": "code",
      "metadata": {
        "colab": {
          "base_uri": "https://localhost:8080/"
        },
        "id": "d2zsoaSWdRIv",
        "outputId": "d11d955a-7710-4f99-b188-e6ea66899d93"
      },
      "source": [
        "np.array(class_names)[y_test[:4]]"
      ],
      "execution_count": null,
      "outputs": [
        {
          "output_type": "execute_result",
          "data": {
            "text/plain": [
              "array(['Ankle boot', 'Pullover', 'Trouser', 'Trouser'], dtype='<U11')"
            ]
          },
          "metadata": {
            "tags": []
          },
          "execution_count": 19
        }
      ]
    }
  ]
}